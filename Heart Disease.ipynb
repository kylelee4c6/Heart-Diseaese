{
 "cells": [
  {
   "cell_type": "markdown",
   "metadata": {},
   "source": [
    " # Presence of Heart Disease\n",
    "**This notebook will explore a heart disease database collected from the University of California, Irvine Machine Learning Repository. I want to compare various machine learning algorithms as well as tune the most promising models in order to maximize the accuracy of predicting the presence of heart disease. This has various applications in the medical field of detecting patients who are mostly likely to experience a heart disease in the near future given a set of features such as age, sex, and chest pains.** \n",
    "\n",
    "\n",
    "The dataset can be found here: [UCI Machine Learning Repository - Statlog (Heart)](http://archive.ics.uci.edu/ml/heart_diseases/statlog+(heart))\n",
    "\n",
    "I will be running the following models:\n",
    "1. Logistic Regression\n",
    "2. Decision trees\n",
    "3. K-Nearest Neighbors\n",
    "4. Linear Discriminant Analysis\n",
    "5. Gaussian Naive Bayes\n",
    "6. Support Vector Machines\n",
    "\n",
    "as well as have a 70/30 train/test split\n"
   ]
  },
  {
   "cell_type": "code",
   "execution_count": 26,
   "metadata": {},
   "outputs": [],
   "source": [
    "# Load libraries\n",
    "import pandas as pd\n",
    "import numpy as np\n",
    "import matplotlib.pyplot as plt\n",
    "from pandas.tools.plotting import scatter_matrix\n",
    "from sklearn.preprocessing import StandardScaler\n",
    "from sklearn import cross_validation\n",
    "from sklearn.metrics import classification_report\n",
    "from sklearn.metrics import confusion_matrix\n",
    "from sklearn.metrics import accuracy_score\n",
    "from sklearn.pipeline import Pipeline\n",
    "from sklearn.grid_search import GridSearchCV\n",
    "from sklearn.linear_model import LogisticRegression\n",
    "from sklearn.tree import DecisionTreeClassifier\n",
    "from sklearn.neighbors import KNeighborsClassifier\n",
    "from sklearn.discriminant_analysis import LinearDiscriminantAnalysis\n",
    "from sklearn.naive_bayes import GaussianNB\n",
    "from sklearn.svm import SVC\n",
    "from sklearn.ensemble import AdaBoostClassifier\n",
    "from sklearn.ensemble import GradientBoostingClassifier\n",
    "from sklearn.ensemble import RandomForestClassifier\n",
    "from sklearn.ensemble import ExtraTreesClassifier"
   ]
  },
  {
   "cell_type": "markdown",
   "metadata": {
    "collapsed": true
   },
   "source": [
    "# Load dataset"
   ]
  },
  {
   "cell_type": "code",
   "execution_count": 27,
   "metadata": {},
   "outputs": [
    {
     "data": {
      "text/html": [
       "<div>\n",
       "<style>\n",
       "    .dataframe thead tr:only-child th {\n",
       "        text-align: right;\n",
       "    }\n",
       "\n",
       "    .dataframe thead th {\n",
       "        text-align: left;\n",
       "    }\n",
       "\n",
       "    .dataframe tbody tr th {\n",
       "        vertical-align: top;\n",
       "    }\n",
       "</style>\n",
       "<table border=\"1\" class=\"dataframe\">\n",
       "  <thead>\n",
       "    <tr style=\"text-align: right;\">\n",
       "      <th></th>\n",
       "      <th>0</th>\n",
       "      <th>1</th>\n",
       "      <th>2</th>\n",
       "      <th>3</th>\n",
       "    </tr>\n",
       "  </thead>\n",
       "  <tbody>\n",
       "    <tr>\n",
       "      <th>0</th>\n",
       "      <td>70.0</td>\n",
       "      <td>1.0</td>\n",
       "      <td>4.0</td>\n",
       "      <td>130.0 322.0 0.0 2.0 109.0 0.0 2.4 2.0 3.0 3.0 2</td>\n",
       "    </tr>\n",
       "    <tr>\n",
       "      <th>1</th>\n",
       "      <td>67.0</td>\n",
       "      <td>0.0</td>\n",
       "      <td>3.0</td>\n",
       "      <td>115.0 564.0 0.0 2.0 160.0 0.0 1.6 2.0 0.0 7.0 1</td>\n",
       "    </tr>\n",
       "    <tr>\n",
       "      <th>2</th>\n",
       "      <td>57.0</td>\n",
       "      <td>1.0</td>\n",
       "      <td>2.0</td>\n",
       "      <td>124.0 261.0 0.0 0.0 141.0 0.0 0.3 1.0 0.0 7.0 2</td>\n",
       "    </tr>\n",
       "    <tr>\n",
       "      <th>3</th>\n",
       "      <td>64.0</td>\n",
       "      <td>1.0</td>\n",
       "      <td>4.0</td>\n",
       "      <td>128.0 263.0 0.0 0.0 105.0 1.0 0.2 2.0 1.0 7.0 1</td>\n",
       "    </tr>\n",
       "    <tr>\n",
       "      <th>4</th>\n",
       "      <td>74.0</td>\n",
       "      <td>0.0</td>\n",
       "      <td>2.0</td>\n",
       "      <td>120.0 269.0 0.0 2.0 121.0 1.0 0.2 1.0 1.0 3.0 1</td>\n",
       "    </tr>\n",
       "  </tbody>\n",
       "</table>\n",
       "</div>"
      ],
      "text/plain": [
       "      0    1    2                                                3\n",
       "0  70.0  1.0  4.0  130.0 322.0 0.0 2.0 109.0 0.0 2.4 2.0 3.0 3.0 2\n",
       "1  67.0  0.0  3.0  115.0 564.0 0.0 2.0 160.0 0.0 1.6 2.0 0.0 7.0 1\n",
       "2  57.0  1.0  2.0  124.0 261.0 0.0 0.0 141.0 0.0 0.3 1.0 0.0 7.0 2\n",
       "3  64.0  1.0  4.0  128.0 263.0 0.0 0.0 105.0 1.0 0.2 2.0 1.0 7.0 1\n",
       "4  74.0  0.0  2.0  120.0 269.0 0.0 2.0 121.0 1.0 0.2 1.0 1.0 3.0 1"
      ]
     },
     "execution_count": 27,
     "metadata": {},
     "output_type": "execute_result"
    }
   ],
   "source": [
    "# Load heart_diseases\n",
    "url = \"http://archive.ics.uci.edu/ml/machine-learning-databases/statlog/heart/heart.dat\"\n",
    "heart_disease = pd.read_fwf(url, header=None)\n",
    "heart_disease.head()"
   ]
  },
  {
   "cell_type": "markdown",
   "metadata": {},
   "source": [
    "# Data Cleaning"
   ]
  },
  {
   "cell_type": "markdown",
   "metadata": {},
   "source": [
    "Column 3 has most of our features so we split the column. Then, I create dummy binary variables for chest pain levels, ecg levels, and thalamus levels since they are categorical variables."
   ]
  },
  {
   "cell_type": "code",
   "execution_count": 28,
   "metadata": {},
   "outputs": [
    {
     "data": {
      "text/html": [
       "<div>\n",
       "<style>\n",
       "    .dataframe thead tr:only-child th {\n",
       "        text-align: right;\n",
       "    }\n",
       "\n",
       "    .dataframe thead th {\n",
       "        text-align: left;\n",
       "    }\n",
       "\n",
       "    .dataframe tbody tr th {\n",
       "        vertical-align: top;\n",
       "    }\n",
       "</style>\n",
       "<table border=\"1\" class=\"dataframe\">\n",
       "  <thead>\n",
       "    <tr style=\"text-align: right;\">\n",
       "      <th></th>\n",
       "      <th>0</th>\n",
       "      <th>1</th>\n",
       "      <th>2</th>\n",
       "      <th>3</th>\n",
       "      <th>4</th>\n",
       "      <th>5</th>\n",
       "      <th>6</th>\n",
       "      <th>7</th>\n",
       "      <th>8</th>\n",
       "      <th>9</th>\n",
       "      <th>10</th>\n",
       "      <th>11</th>\n",
       "      <th>12</th>\n",
       "      <th>13</th>\n",
       "    </tr>\n",
       "  </thead>\n",
       "  <tbody>\n",
       "    <tr>\n",
       "      <th>0</th>\n",
       "      <td>70.0</td>\n",
       "      <td>1.0</td>\n",
       "      <td>4.0</td>\n",
       "      <td>130.0</td>\n",
       "      <td>322.0</td>\n",
       "      <td>0.0</td>\n",
       "      <td>2.0</td>\n",
       "      <td>109.0</td>\n",
       "      <td>0.0</td>\n",
       "      <td>2.4</td>\n",
       "      <td>2.0</td>\n",
       "      <td>3.0</td>\n",
       "      <td>3.0</td>\n",
       "      <td>2</td>\n",
       "    </tr>\n",
       "    <tr>\n",
       "      <th>1</th>\n",
       "      <td>67.0</td>\n",
       "      <td>0.0</td>\n",
       "      <td>3.0</td>\n",
       "      <td>115.0</td>\n",
       "      <td>564.0</td>\n",
       "      <td>0.0</td>\n",
       "      <td>2.0</td>\n",
       "      <td>160.0</td>\n",
       "      <td>0.0</td>\n",
       "      <td>1.6</td>\n",
       "      <td>2.0</td>\n",
       "      <td>0.0</td>\n",
       "      <td>7.0</td>\n",
       "      <td>1</td>\n",
       "    </tr>\n",
       "    <tr>\n",
       "      <th>2</th>\n",
       "      <td>57.0</td>\n",
       "      <td>1.0</td>\n",
       "      <td>2.0</td>\n",
       "      <td>124.0</td>\n",
       "      <td>261.0</td>\n",
       "      <td>0.0</td>\n",
       "      <td>0.0</td>\n",
       "      <td>141.0</td>\n",
       "      <td>0.0</td>\n",
       "      <td>0.3</td>\n",
       "      <td>1.0</td>\n",
       "      <td>0.0</td>\n",
       "      <td>7.0</td>\n",
       "      <td>2</td>\n",
       "    </tr>\n",
       "    <tr>\n",
       "      <th>3</th>\n",
       "      <td>64.0</td>\n",
       "      <td>1.0</td>\n",
       "      <td>4.0</td>\n",
       "      <td>128.0</td>\n",
       "      <td>263.0</td>\n",
       "      <td>0.0</td>\n",
       "      <td>0.0</td>\n",
       "      <td>105.0</td>\n",
       "      <td>1.0</td>\n",
       "      <td>0.2</td>\n",
       "      <td>2.0</td>\n",
       "      <td>1.0</td>\n",
       "      <td>7.0</td>\n",
       "      <td>1</td>\n",
       "    </tr>\n",
       "    <tr>\n",
       "      <th>4</th>\n",
       "      <td>74.0</td>\n",
       "      <td>0.0</td>\n",
       "      <td>2.0</td>\n",
       "      <td>120.0</td>\n",
       "      <td>269.0</td>\n",
       "      <td>0.0</td>\n",
       "      <td>2.0</td>\n",
       "      <td>121.0</td>\n",
       "      <td>1.0</td>\n",
       "      <td>0.2</td>\n",
       "      <td>1.0</td>\n",
       "      <td>1.0</td>\n",
       "      <td>3.0</td>\n",
       "      <td>1</td>\n",
       "    </tr>\n",
       "  </tbody>\n",
       "</table>\n",
       "</div>"
      ],
      "text/plain": [
       "     0    1    2      3      4    5    6      7    8    9    10   11   12 13\n",
       "0  70.0  1.0  4.0  130.0  322.0  0.0  2.0  109.0  0.0  2.4  2.0  3.0  3.0  2\n",
       "1  67.0  0.0  3.0  115.0  564.0  0.0  2.0  160.0  0.0  1.6  2.0  0.0  7.0  1\n",
       "2  57.0  1.0  2.0  124.0  261.0  0.0  0.0  141.0  0.0  0.3  1.0  0.0  7.0  2\n",
       "3  64.0  1.0  4.0  128.0  263.0  0.0  0.0  105.0  1.0  0.2  2.0  1.0  7.0  1\n",
       "4  74.0  0.0  2.0  120.0  269.0  0.0  2.0  121.0  1.0  0.2  1.0  1.0  3.0  1"
      ]
     },
     "execution_count": 28,
     "metadata": {},
     "output_type": "execute_result"
    }
   ],
   "source": [
    "split_data =heart_disease[3].str.split('\\s+', expand = True)\n",
    "del heart_disease[3]\n",
    "heart_disease = pd.concat([heart_disease, split_data], axis = 1, ignore_index = True)\n",
    "heart_disease.head()"
   ]
  },
  {
   "cell_type": "code",
   "execution_count": 29,
   "metadata": {},
   "outputs": [],
   "source": [
    "# Store and convert categorical variables into floats\n",
    "chest_pain  =heart_disease[2].astype('float64')\n",
    "ecg = heart_disease[6].astype('float64')\n",
    "thal = heart_disease[12].astype('float64')\n",
    "\n",
    "# Binarize categorical variables\n",
    "chest_pain_bin = pd.get_dummies(chest_pain)\n",
    "ecg_bin = pd.get_dummies(ecg)\n",
    "thal_bin = pd.get_dummies(thal)\n",
    "response = heart_disease[13]\n",
    "\n",
    "# Delete columns\n",
    "del heart_disease[13]\n",
    "del heart_disease[12]\n",
    "del heart_disease[6]\n",
    "del heart_disease[2]"
   ]
  },
  {
   "cell_type": "code",
   "execution_count": 16,
   "metadata": {},
   "outputs": [
    {
     "data": {
      "text/html": [
       "<div>\n",
       "<style>\n",
       "    .dataframe thead tr:only-child th {\n",
       "        text-align: right;\n",
       "    }\n",
       "\n",
       "    .dataframe thead th {\n",
       "        text-align: left;\n",
       "    }\n",
       "\n",
       "    .dataframe tbody tr th {\n",
       "        vertical-align: top;\n",
       "    }\n",
       "</style>\n",
       "<table border=\"1\" class=\"dataframe\">\n",
       "  <thead>\n",
       "    <tr style=\"text-align: right;\">\n",
       "      <th></th>\n",
       "      <th>0</th>\n",
       "      <th>1</th>\n",
       "      <th>3</th>\n",
       "      <th>4</th>\n",
       "      <th>5</th>\n",
       "      <th>7</th>\n",
       "      <th>8</th>\n",
       "      <th>9</th>\n",
       "      <th>10</th>\n",
       "      <th>11</th>\n",
       "    </tr>\n",
       "  </thead>\n",
       "  <tbody>\n",
       "    <tr>\n",
       "      <th>0</th>\n",
       "      <td>70.0</td>\n",
       "      <td>1.0</td>\n",
       "      <td>130.0</td>\n",
       "      <td>322.0</td>\n",
       "      <td>0.0</td>\n",
       "      <td>109.0</td>\n",
       "      <td>0.0</td>\n",
       "      <td>2.4</td>\n",
       "      <td>2.0</td>\n",
       "      <td>3.0</td>\n",
       "    </tr>\n",
       "    <tr>\n",
       "      <th>1</th>\n",
       "      <td>67.0</td>\n",
       "      <td>0.0</td>\n",
       "      <td>115.0</td>\n",
       "      <td>564.0</td>\n",
       "      <td>0.0</td>\n",
       "      <td>160.0</td>\n",
       "      <td>0.0</td>\n",
       "      <td>1.6</td>\n",
       "      <td>2.0</td>\n",
       "      <td>0.0</td>\n",
       "    </tr>\n",
       "    <tr>\n",
       "      <th>2</th>\n",
       "      <td>57.0</td>\n",
       "      <td>1.0</td>\n",
       "      <td>124.0</td>\n",
       "      <td>261.0</td>\n",
       "      <td>0.0</td>\n",
       "      <td>141.0</td>\n",
       "      <td>0.0</td>\n",
       "      <td>0.3</td>\n",
       "      <td>1.0</td>\n",
       "      <td>0.0</td>\n",
       "    </tr>\n",
       "    <tr>\n",
       "      <th>3</th>\n",
       "      <td>64.0</td>\n",
       "      <td>1.0</td>\n",
       "      <td>128.0</td>\n",
       "      <td>263.0</td>\n",
       "      <td>0.0</td>\n",
       "      <td>105.0</td>\n",
       "      <td>1.0</td>\n",
       "      <td>0.2</td>\n",
       "      <td>2.0</td>\n",
       "      <td>1.0</td>\n",
       "    </tr>\n",
       "    <tr>\n",
       "      <th>4</th>\n",
       "      <td>74.0</td>\n",
       "      <td>0.0</td>\n",
       "      <td>120.0</td>\n",
       "      <td>269.0</td>\n",
       "      <td>0.0</td>\n",
       "      <td>121.0</td>\n",
       "      <td>1.0</td>\n",
       "      <td>0.2</td>\n",
       "      <td>1.0</td>\n",
       "      <td>1.0</td>\n",
       "    </tr>\n",
       "  </tbody>\n",
       "</table>\n",
       "</div>"
      ],
      "text/plain": [
       "     0    1      3      4    5      7    8    9    10   11\n",
       "0  70.0  1.0  130.0  322.0  0.0  109.0  0.0  2.4  2.0  3.0\n",
       "1  67.0  0.0  115.0  564.0  0.0  160.0  0.0  1.6  2.0  0.0\n",
       "2  57.0  1.0  124.0  261.0  0.0  141.0  0.0  0.3  1.0  0.0\n",
       "3  64.0  1.0  128.0  263.0  0.0  105.0  1.0  0.2  2.0  1.0\n",
       "4  74.0  0.0  120.0  269.0  0.0  121.0  1.0  0.2  1.0  1.0"
      ]
     },
     "execution_count": 16,
     "metadata": {},
     "output_type": "execute_result"
    }
   ],
   "source": [
    "heart_disease.head()"
   ]
  },
  {
   "cell_type": "code",
   "execution_count": 30,
   "metadata": {
    "collapsed": true
   },
   "outputs": [],
   "source": [
    "# Mix partitioned data\n",
    "heart_disease = pd.concat([heart_disease, chest_pain_bin, ecg_bin, thal_bin, response], axis = 1, ignore_index = True)"
   ]
  },
  {
   "cell_type": "code",
   "execution_count": 31,
   "metadata": {},
   "outputs": [
    {
     "data": {
      "text/html": [
       "<div>\n",
       "<style>\n",
       "    .dataframe thead tr:only-child th {\n",
       "        text-align: right;\n",
       "    }\n",
       "\n",
       "    .dataframe thead th {\n",
       "        text-align: left;\n",
       "    }\n",
       "\n",
       "    .dataframe tbody tr th {\n",
       "        vertical-align: top;\n",
       "    }\n",
       "</style>\n",
       "<table border=\"1\" class=\"dataframe\">\n",
       "  <thead>\n",
       "    <tr style=\"text-align: right;\">\n",
       "      <th></th>\n",
       "      <th>0</th>\n",
       "      <th>1</th>\n",
       "      <th>2</th>\n",
       "      <th>3</th>\n",
       "      <th>4</th>\n",
       "      <th>5</th>\n",
       "      <th>6</th>\n",
       "      <th>7</th>\n",
       "      <th>8</th>\n",
       "      <th>9</th>\n",
       "      <th>...</th>\n",
       "      <th>11</th>\n",
       "      <th>12</th>\n",
       "      <th>13</th>\n",
       "      <th>14</th>\n",
       "      <th>15</th>\n",
       "      <th>16</th>\n",
       "      <th>17</th>\n",
       "      <th>18</th>\n",
       "      <th>19</th>\n",
       "      <th>20</th>\n",
       "    </tr>\n",
       "  </thead>\n",
       "  <tbody>\n",
       "    <tr>\n",
       "      <th>0</th>\n",
       "      <td>70.0</td>\n",
       "      <td>1.0</td>\n",
       "      <td>130.0</td>\n",
       "      <td>322.0</td>\n",
       "      <td>0.0</td>\n",
       "      <td>109.0</td>\n",
       "      <td>0.0</td>\n",
       "      <td>2.4</td>\n",
       "      <td>2.0</td>\n",
       "      <td>3.0</td>\n",
       "      <td>...</td>\n",
       "      <td>0</td>\n",
       "      <td>0</td>\n",
       "      <td>1</td>\n",
       "      <td>0</td>\n",
       "      <td>0</td>\n",
       "      <td>1</td>\n",
       "      <td>1</td>\n",
       "      <td>0</td>\n",
       "      <td>0</td>\n",
       "      <td>2</td>\n",
       "    </tr>\n",
       "    <tr>\n",
       "      <th>1</th>\n",
       "      <td>67.0</td>\n",
       "      <td>0.0</td>\n",
       "      <td>115.0</td>\n",
       "      <td>564.0</td>\n",
       "      <td>0.0</td>\n",
       "      <td>160.0</td>\n",
       "      <td>0.0</td>\n",
       "      <td>1.6</td>\n",
       "      <td>2.0</td>\n",
       "      <td>0.0</td>\n",
       "      <td>...</td>\n",
       "      <td>0</td>\n",
       "      <td>1</td>\n",
       "      <td>0</td>\n",
       "      <td>0</td>\n",
       "      <td>0</td>\n",
       "      <td>1</td>\n",
       "      <td>0</td>\n",
       "      <td>0</td>\n",
       "      <td>1</td>\n",
       "      <td>1</td>\n",
       "    </tr>\n",
       "    <tr>\n",
       "      <th>2</th>\n",
       "      <td>57.0</td>\n",
       "      <td>1.0</td>\n",
       "      <td>124.0</td>\n",
       "      <td>261.0</td>\n",
       "      <td>0.0</td>\n",
       "      <td>141.0</td>\n",
       "      <td>0.0</td>\n",
       "      <td>0.3</td>\n",
       "      <td>1.0</td>\n",
       "      <td>0.0</td>\n",
       "      <td>...</td>\n",
       "      <td>1</td>\n",
       "      <td>0</td>\n",
       "      <td>0</td>\n",
       "      <td>1</td>\n",
       "      <td>0</td>\n",
       "      <td>0</td>\n",
       "      <td>0</td>\n",
       "      <td>0</td>\n",
       "      <td>1</td>\n",
       "      <td>2</td>\n",
       "    </tr>\n",
       "    <tr>\n",
       "      <th>3</th>\n",
       "      <td>64.0</td>\n",
       "      <td>1.0</td>\n",
       "      <td>128.0</td>\n",
       "      <td>263.0</td>\n",
       "      <td>0.0</td>\n",
       "      <td>105.0</td>\n",
       "      <td>1.0</td>\n",
       "      <td>0.2</td>\n",
       "      <td>2.0</td>\n",
       "      <td>1.0</td>\n",
       "      <td>...</td>\n",
       "      <td>0</td>\n",
       "      <td>0</td>\n",
       "      <td>1</td>\n",
       "      <td>1</td>\n",
       "      <td>0</td>\n",
       "      <td>0</td>\n",
       "      <td>0</td>\n",
       "      <td>0</td>\n",
       "      <td>1</td>\n",
       "      <td>1</td>\n",
       "    </tr>\n",
       "    <tr>\n",
       "      <th>4</th>\n",
       "      <td>74.0</td>\n",
       "      <td>0.0</td>\n",
       "      <td>120.0</td>\n",
       "      <td>269.0</td>\n",
       "      <td>0.0</td>\n",
       "      <td>121.0</td>\n",
       "      <td>1.0</td>\n",
       "      <td>0.2</td>\n",
       "      <td>1.0</td>\n",
       "      <td>1.0</td>\n",
       "      <td>...</td>\n",
       "      <td>1</td>\n",
       "      <td>0</td>\n",
       "      <td>0</td>\n",
       "      <td>0</td>\n",
       "      <td>0</td>\n",
       "      <td>1</td>\n",
       "      <td>1</td>\n",
       "      <td>0</td>\n",
       "      <td>0</td>\n",
       "      <td>1</td>\n",
       "    </tr>\n",
       "  </tbody>\n",
       "</table>\n",
       "<p>5 rows × 21 columns</p>\n",
       "</div>"
      ],
      "text/plain": [
       "     0    1      2      3    4      5    6    7    8    9  ...  11  12  13  \\\n",
       "0  70.0  1.0  130.0  322.0  0.0  109.0  0.0  2.4  2.0  3.0 ...   0   0   1   \n",
       "1  67.0  0.0  115.0  564.0  0.0  160.0  0.0  1.6  2.0  0.0 ...   0   1   0   \n",
       "2  57.0  1.0  124.0  261.0  0.0  141.0  0.0  0.3  1.0  0.0 ...   1   0   0   \n",
       "3  64.0  1.0  128.0  263.0  0.0  105.0  1.0  0.2  2.0  1.0 ...   0   0   1   \n",
       "4  74.0  0.0  120.0  269.0  0.0  121.0  1.0  0.2  1.0  1.0 ...   1   0   0   \n",
       "\n",
       "   14  15  16  17  18  19  20  \n",
       "0   0   0   1   1   0   0   2  \n",
       "1   0   0   1   0   0   1   1  \n",
       "2   1   0   0   0   0   1   2  \n",
       "3   1   0   0   0   0   1   1  \n",
       "4   0   0   1   1   0   0   1  \n",
       "\n",
       "[5 rows x 21 columns]"
      ]
     },
     "execution_count": 31,
     "metadata": {},
     "output_type": "execute_result"
    }
   ],
   "source": [
    "# Ensure quality control\n",
    "heart_disease.head()"
   ]
  },
  {
   "cell_type": "code",
   "execution_count": 32,
   "metadata": {},
   "outputs": [
    {
     "data": {
      "text/plain": [
       "RangeIndex(start=0, stop=21, step=1)"
      ]
     },
     "execution_count": 32,
     "metadata": {},
     "output_type": "execute_result"
    }
   ],
   "source": [
    "heart_disease.columns"
   ]
  },
  {
   "cell_type": "code",
   "execution_count": 33,
   "metadata": {},
   "outputs": [
    {
     "data": {
      "text/plain": [
       "(270, 21)"
      ]
     },
     "execution_count": 33,
     "metadata": {},
     "output_type": "execute_result"
    }
   ],
   "source": [
    "heart_disease.shape"
   ]
  },
  {
   "cell_type": "code",
   "execution_count": 35,
   "metadata": {},
   "outputs": [
    {
     "data": {
      "text/plain": [
       "0     float64\n",
       "1     float64\n",
       "2      object\n",
       "3      object\n",
       "4      object\n",
       "5      object\n",
       "6      object\n",
       "7      object\n",
       "8      object\n",
       "9      object\n",
       "10      uint8\n",
       "11      uint8\n",
       "12      uint8\n",
       "13      uint8\n",
       "14      uint8\n",
       "15      uint8\n",
       "16      uint8\n",
       "17      uint8\n",
       "18      uint8\n",
       "19      uint8\n",
       "20     object\n",
       "dtype: object"
      ]
     },
     "execution_count": 35,
     "metadata": {},
     "output_type": "execute_result"
    }
   ],
   "source": [
    "# Look at datatypes\n",
    "pd.set_option('display.max_rows',500)\n",
    "heart_disease.dtypes"
   ]
  },
  {
   "cell_type": "code",
   "execution_count": 36,
   "metadata": {},
   "outputs": [
    {
     "data": {
      "text/plain": [
       "0     float64\n",
       "1     float64\n",
       "2     float64\n",
       "3     float64\n",
       "4     float64\n",
       "5     float64\n",
       "6     float64\n",
       "7     float64\n",
       "8     float64\n",
       "9     float64\n",
       "10    float64\n",
       "11    float64\n",
       "12    float64\n",
       "13    float64\n",
       "14    float64\n",
       "15    float64\n",
       "16    float64\n",
       "17    float64\n",
       "18    float64\n",
       "19    float64\n",
       "20     object\n",
       "dtype: object"
      ]
     },
     "execution_count": 36,
     "metadata": {},
     "output_type": "execute_result"
    }
   ],
   "source": [
    "# Convert data types into float64 for arithmetic operations\n",
    "heart_disease.iloc[:, 0:20] = heart_disease.iloc[:, 0:20].astype('float64')\n",
    "heart_disease.dtypes"
   ]
  },
  {
   "cell_type": "code",
   "execution_count": 37,
   "metadata": {},
   "outputs": [
    {
     "data": {
      "text/html": [
       "<div>\n",
       "<style>\n",
       "    .dataframe thead tr:only-child th {\n",
       "        text-align: right;\n",
       "    }\n",
       "\n",
       "    .dataframe thead th {\n",
       "        text-align: left;\n",
       "    }\n",
       "\n",
       "    .dataframe tbody tr th {\n",
       "        vertical-align: top;\n",
       "    }\n",
       "</style>\n",
       "<table border=\"1\" class=\"dataframe\">\n",
       "  <thead>\n",
       "    <tr style=\"text-align: right;\">\n",
       "      <th></th>\n",
       "      <th>0</th>\n",
       "      <th>1</th>\n",
       "      <th>2</th>\n",
       "      <th>3</th>\n",
       "      <th>4</th>\n",
       "      <th>5</th>\n",
       "      <th>6</th>\n",
       "      <th>7</th>\n",
       "      <th>8</th>\n",
       "      <th>9</th>\n",
       "      <th>10</th>\n",
       "      <th>11</th>\n",
       "      <th>12</th>\n",
       "      <th>13</th>\n",
       "      <th>14</th>\n",
       "      <th>15</th>\n",
       "      <th>16</th>\n",
       "      <th>17</th>\n",
       "      <th>18</th>\n",
       "      <th>19</th>\n",
       "    </tr>\n",
       "  </thead>\n",
       "  <tbody>\n",
       "    <tr>\n",
       "      <th>count</th>\n",
       "      <td>270.000</td>\n",
       "      <td>270.000</td>\n",
       "      <td>270.000</td>\n",
       "      <td>270.000</td>\n",
       "      <td>270.000</td>\n",
       "      <td>270.000</td>\n",
       "      <td>270.000</td>\n",
       "      <td>270.000</td>\n",
       "      <td>270.000</td>\n",
       "      <td>270.000</td>\n",
       "      <td>270.000</td>\n",
       "      <td>270.000</td>\n",
       "      <td>270.000</td>\n",
       "      <td>270.000</td>\n",
       "      <td>270.000</td>\n",
       "      <td>270.000</td>\n",
       "      <td>270.000</td>\n",
       "      <td>270.000</td>\n",
       "      <td>270.000</td>\n",
       "      <td>270.000</td>\n",
       "    </tr>\n",
       "    <tr>\n",
       "      <th>mean</th>\n",
       "      <td>54.433</td>\n",
       "      <td>0.678</td>\n",
       "      <td>131.344</td>\n",
       "      <td>249.659</td>\n",
       "      <td>0.148</td>\n",
       "      <td>149.678</td>\n",
       "      <td>0.330</td>\n",
       "      <td>1.050</td>\n",
       "      <td>1.585</td>\n",
       "      <td>0.670</td>\n",
       "      <td>0.074</td>\n",
       "      <td>0.156</td>\n",
       "      <td>0.293</td>\n",
       "      <td>0.478</td>\n",
       "      <td>0.485</td>\n",
       "      <td>0.007</td>\n",
       "      <td>0.507</td>\n",
       "      <td>0.563</td>\n",
       "      <td>0.052</td>\n",
       "      <td>0.385</td>\n",
       "    </tr>\n",
       "    <tr>\n",
       "      <th>std</th>\n",
       "      <td>9.109</td>\n",
       "      <td>0.468</td>\n",
       "      <td>17.862</td>\n",
       "      <td>51.686</td>\n",
       "      <td>0.356</td>\n",
       "      <td>23.166</td>\n",
       "      <td>0.471</td>\n",
       "      <td>1.145</td>\n",
       "      <td>0.614</td>\n",
       "      <td>0.944</td>\n",
       "      <td>0.262</td>\n",
       "      <td>0.363</td>\n",
       "      <td>0.456</td>\n",
       "      <td>0.500</td>\n",
       "      <td>0.501</td>\n",
       "      <td>0.086</td>\n",
       "      <td>0.501</td>\n",
       "      <td>0.497</td>\n",
       "      <td>0.222</td>\n",
       "      <td>0.488</td>\n",
       "    </tr>\n",
       "    <tr>\n",
       "      <th>min</th>\n",
       "      <td>29.000</td>\n",
       "      <td>0.000</td>\n",
       "      <td>94.000</td>\n",
       "      <td>126.000</td>\n",
       "      <td>0.000</td>\n",
       "      <td>71.000</td>\n",
       "      <td>0.000</td>\n",
       "      <td>0.000</td>\n",
       "      <td>1.000</td>\n",
       "      <td>0.000</td>\n",
       "      <td>0.000</td>\n",
       "      <td>0.000</td>\n",
       "      <td>0.000</td>\n",
       "      <td>0.000</td>\n",
       "      <td>0.000</td>\n",
       "      <td>0.000</td>\n",
       "      <td>0.000</td>\n",
       "      <td>0.000</td>\n",
       "      <td>0.000</td>\n",
       "      <td>0.000</td>\n",
       "    </tr>\n",
       "    <tr>\n",
       "      <th>25%</th>\n",
       "      <td>48.000</td>\n",
       "      <td>0.000</td>\n",
       "      <td>120.000</td>\n",
       "      <td>213.000</td>\n",
       "      <td>0.000</td>\n",
       "      <td>133.000</td>\n",
       "      <td>0.000</td>\n",
       "      <td>0.000</td>\n",
       "      <td>1.000</td>\n",
       "      <td>0.000</td>\n",
       "      <td>0.000</td>\n",
       "      <td>0.000</td>\n",
       "      <td>0.000</td>\n",
       "      <td>0.000</td>\n",
       "      <td>0.000</td>\n",
       "      <td>0.000</td>\n",
       "      <td>0.000</td>\n",
       "      <td>0.000</td>\n",
       "      <td>0.000</td>\n",
       "      <td>0.000</td>\n",
       "    </tr>\n",
       "    <tr>\n",
       "      <th>50%</th>\n",
       "      <td>55.000</td>\n",
       "      <td>1.000</td>\n",
       "      <td>130.000</td>\n",
       "      <td>245.000</td>\n",
       "      <td>0.000</td>\n",
       "      <td>153.500</td>\n",
       "      <td>0.000</td>\n",
       "      <td>0.800</td>\n",
       "      <td>2.000</td>\n",
       "      <td>0.000</td>\n",
       "      <td>0.000</td>\n",
       "      <td>0.000</td>\n",
       "      <td>0.000</td>\n",
       "      <td>0.000</td>\n",
       "      <td>0.000</td>\n",
       "      <td>0.000</td>\n",
       "      <td>1.000</td>\n",
       "      <td>1.000</td>\n",
       "      <td>0.000</td>\n",
       "      <td>0.000</td>\n",
       "    </tr>\n",
       "    <tr>\n",
       "      <th>75%</th>\n",
       "      <td>61.000</td>\n",
       "      <td>1.000</td>\n",
       "      <td>140.000</td>\n",
       "      <td>280.000</td>\n",
       "      <td>0.000</td>\n",
       "      <td>166.000</td>\n",
       "      <td>1.000</td>\n",
       "      <td>1.600</td>\n",
       "      <td>2.000</td>\n",
       "      <td>1.000</td>\n",
       "      <td>0.000</td>\n",
       "      <td>0.000</td>\n",
       "      <td>1.000</td>\n",
       "      <td>1.000</td>\n",
       "      <td>1.000</td>\n",
       "      <td>0.000</td>\n",
       "      <td>1.000</td>\n",
       "      <td>1.000</td>\n",
       "      <td>0.000</td>\n",
       "      <td>1.000</td>\n",
       "    </tr>\n",
       "    <tr>\n",
       "      <th>max</th>\n",
       "      <td>77.000</td>\n",
       "      <td>1.000</td>\n",
       "      <td>200.000</td>\n",
       "      <td>564.000</td>\n",
       "      <td>1.000</td>\n",
       "      <td>202.000</td>\n",
       "      <td>1.000</td>\n",
       "      <td>6.200</td>\n",
       "      <td>3.000</td>\n",
       "      <td>3.000</td>\n",
       "      <td>1.000</td>\n",
       "      <td>1.000</td>\n",
       "      <td>1.000</td>\n",
       "      <td>1.000</td>\n",
       "      <td>1.000</td>\n",
       "      <td>1.000</td>\n",
       "      <td>1.000</td>\n",
       "      <td>1.000</td>\n",
       "      <td>1.000</td>\n",
       "      <td>1.000</td>\n",
       "    </tr>\n",
       "  </tbody>\n",
       "</table>\n",
       "</div>"
      ],
      "text/plain": [
       "            0        1        2        3        4        5        6        7   \\\n",
       "count  270.000  270.000  270.000  270.000  270.000  270.000  270.000  270.000   \n",
       "mean    54.433    0.678  131.344  249.659    0.148  149.678    0.330    1.050   \n",
       "std      9.109    0.468   17.862   51.686    0.356   23.166    0.471    1.145   \n",
       "min     29.000    0.000   94.000  126.000    0.000   71.000    0.000    0.000   \n",
       "25%     48.000    0.000  120.000  213.000    0.000  133.000    0.000    0.000   \n",
       "50%     55.000    1.000  130.000  245.000    0.000  153.500    0.000    0.800   \n",
       "75%     61.000    1.000  140.000  280.000    0.000  166.000    1.000    1.600   \n",
       "max     77.000    1.000  200.000  564.000    1.000  202.000    1.000    6.200   \n",
       "\n",
       "            8        9        10       11       12       13       14       15  \\\n",
       "count  270.000  270.000  270.000  270.000  270.000  270.000  270.000  270.000   \n",
       "mean     1.585    0.670    0.074    0.156    0.293    0.478    0.485    0.007   \n",
       "std      0.614    0.944    0.262    0.363    0.456    0.500    0.501    0.086   \n",
       "min      1.000    0.000    0.000    0.000    0.000    0.000    0.000    0.000   \n",
       "25%      1.000    0.000    0.000    0.000    0.000    0.000    0.000    0.000   \n",
       "50%      2.000    0.000    0.000    0.000    0.000    0.000    0.000    0.000   \n",
       "75%      2.000    1.000    0.000    0.000    1.000    1.000    1.000    0.000   \n",
       "max      3.000    3.000    1.000    1.000    1.000    1.000    1.000    1.000   \n",
       "\n",
       "            16       17       18       19  \n",
       "count  270.000  270.000  270.000  270.000  \n",
       "mean     0.507    0.563    0.052    0.385  \n",
       "std      0.501    0.497    0.222    0.488  \n",
       "min      0.000    0.000    0.000    0.000  \n",
       "25%      0.000    0.000    0.000    0.000  \n",
       "50%      1.000    1.000    0.000    0.000  \n",
       "75%      1.000    1.000    0.000    1.000  \n",
       "max      1.000    1.000    1.000    1.000  "
      ]
     },
     "execution_count": 37,
     "metadata": {},
     "output_type": "execute_result"
    }
   ],
   "source": [
    "# Set precision to 3 decimal places\n",
    "pd.set_option('precision', 3)\n",
    "heart_disease.describe()"
   ]
  },
  {
   "cell_type": "markdown",
   "metadata": {},
   "source": [
    "Recall that we have encoded binary dummy variables. So far we have:"
   ]
  },
  {
   "cell_type": "markdown",
   "metadata": {},
   "source": [
    "| Index | Column   |\n",
    "|------|-----------------|\n",
    "|   0  | Age|\n",
    "| 1 | Sex (1-Male, 0-Female)|\n",
    "|2 | Resting Blood Pressure |\n",
    "|3 | Serum Cholesterol in mg/dl |\n",
    "| 4 | Fasting blood sugar | \n",
    "| 5 | Maximum heart rate achieved |\n",
    "| 6 | Exercise induced angina | \n",
    "| 7 | Old peak ST depression induced by exercise relative to rest |\n",
    "| 8 | Slope of the peak exercise ST segment |\n",
    "| 9 | Number of major vessels (0-3) colored by flourosopy |\n",
    "|10 | (BINARY) Chest Pain - 1 |\n",
    "| 11 | (BINARY) Chest Pain - 2 |\n",
    "| 12 | (BINARY) Chest Pain - 3 |\n",
    "| 13| (BINARY) Chest Pain - 4 | \n",
    "| 14 | (BINARY) Resting Electrocardiographic results - 0 |\n",
    "| 15 | (BINARY) Resting Electrocardiographic results - 1 |\n",
    "| 16 | (BINARY) Resting Electrocardiographic results - 2 |\n",
    "| 17 | (BINARY) Thalamus: Normal (3) |\n",
    "| 18 | (BINARY) Thalamus: Fixed defect (6) |\n",
    "| 19 | (BINARY) Thalamus: Reversable defect ( 7) |\n",
    "| 20 | Absence (1) or presence (2) of heart disease |"
   ]
  },
  {
   "cell_type": "markdown",
   "metadata": {},
   "source": [
    "# Histogram Plots"
   ]
  },
  {
   "cell_type": "code",
   "execution_count": 38,
   "metadata": {
    "scrolled": false
   },
   "outputs": [
    {
     "data": {
      "image/png": "[encoded data removed]",
      "text/plain": [
       "<matplotlib.figure.Figure at 0x16501945160>"
      ]
     },
     "metadata": {},
     "output_type": "display_data"
    }
   ],
   "source": [
    "## Create histograms\n",
    "heart_disease.hist( column = [0,1,2,3,4,5,6,7,8,9],sharex = False, sharey = False, xlabelsize = 1, ylabelsize = 1)\n",
    "plt.show()"
   ]
  },
  {
   "cell_type": "markdown",
   "metadata": {},
   "source": [
    "We observe that age reasonably follows a normal distribution. Also, resting blood pressure at the time the data was taken seems to follow a right skewed normal distribution. The levels of exercised induced angina also follows a right skewed normal distribution. Slope of the peak exercise ST segment is reasonably a normal distribution. Note that we have a class imbalance in sex, fasting blood sugar, number of major vessels colored by flouroscopy, and slope of the peaks."
   ]
  },
  {
   "cell_type": "code",
   "execution_count": 50,
   "metadata": {},
   "outputs": [
    {
     "data": {
      "image/png": "[encoded data removed]",
      "text/plain": [
       "<matplotlib.figure.Figure at 0x165029d5748>"
      ]
     },
     "metadata": {},
     "output_type": "display_data"
    }
   ],
   "source": [
    "# Histogram based on chest pain levels\n",
    "plt.bar(range(1,5),chest_pain.value_counts().sort_index())\n",
    "plt.show()"
   ]
  },
  {
   "cell_type": "code",
   "execution_count": 55,
   "metadata": {},
   "outputs": [
    {
     "data": {
      "text/plain": [
       "0.0    131\n",
       "1.0      2\n",
       "2.0    137\n",
       "Name: 6, dtype: int64"
      ]
     },
     "execution_count": 55,
     "metadata": {},
     "output_type": "execute_result"
    }
   ],
   "source": [
    "ecg.value_counts().sort_index()"
   ]
  },
  {
   "cell_type": "code",
   "execution_count": 56,
   "metadata": {},
   "outputs": [
    {
     "data": {
      "image/png": "[encoded data removed]",
      "text/plain": [
       "<matplotlib.figure.Figure at 0x1650219db70>"
      ]
     },
     "metadata": {},
     "output_type": "display_data"
    }
   ],
   "source": [
    "# Barplot based on electrocardiogram levels (0,1,2)\n",
    "plt.bar(range(1,4),ecg.value_counts().sort_index())\n",
    "plt.show()"
   ]
  },
  {
   "cell_type": "code",
   "execution_count": 57,
   "metadata": {},
   "outputs": [
    {
     "data": {
      "image/png": "[encoded data removed]",
      "text/plain": [
       "<matplotlib.figure.Figure at 0x165024b89e8>"
      ]
     },
     "metadata": {},
     "output_type": "display_data"
    }
   ],
   "source": [
    "# Barplot based on thalamus\n",
    "plt.bar(range(1,4), thal.value_counts().sort_index())\n",
    "plt.show()"
   ]
  },
  {
   "cell_type": "markdown",
   "metadata": {},
   "source": [
    "# Density Plots"
   ]
  },
  {
   "cell_type": "code",
   "execution_count": 60,
   "metadata": {},
   "outputs": [
    {
     "data": {
      "text/plain": [
       "<matplotlib.figure.Figure at 0x16502514828>"
      ]
     },
     "metadata": {},
     "output_type": "display_data"
    },
    {
     "data": {
      "image/png": "[encoded data removed]",
      "text/plain": [
       "<matplotlib.figure.Figure at 0x165025222e8>"
      ]
     },
     "metadata": {},
     "output_type": "display_data"
    }
   ],
   "source": [
    "# Create density plots on non-binary data\n",
    "heart_disease.iloc[:, [0,2,3,5,7,9]].plot(kind='density', subplots=True, layout=(3,4), sharex=False, legend=False, fontsize=1)\n",
    "plt.show()"
   ]
  },
  {
   "cell_type": "markdown",
   "metadata": {},
   "source": [
    "# Correlation matrix\n",
    "In order to prevent the confusion between the binary variables I have encoded, I have decided to leave them off in order to see some basic relationships in the data."
   ]
  },
  {
   "cell_type": "code",
   "execution_count": 61,
   "metadata": {},
   "outputs": [
    {
     "data": {
      "image/png": "[encoded data removed]",
      "text/plain": [
       "<matplotlib.figure.Figure at 0x165029fd1d0>"
      ]
     },
     "metadata": {},
     "output_type": "display_data"
    }
   ],
   "source": [
    "# See correlation between non-binary data\n",
    "fig = plt.figure()\n",
    "ax = fig.add_subplot(111)\n",
    "cax = ax.matshow(heart_disease.iloc[:, [0,2,3,5,7,9]].corr(), vmin=-1, vmax=1, interpolation='none')\n",
    "fig.colorbar(cax)\n",
    "plt.show()"
   ]
  },
  {
   "cell_type": "markdown",
   "metadata": {},
   "source": [
    "# Validation dataset\n",
    "I decide to have train/test split of 70/30 in order to get some reasonable results."
   ]
  },
  {
   "cell_type": "code",
   "execution_count": 62,
   "metadata": {
    "collapsed": true
   },
   "outputs": [],
   "source": [
    "array = heart_disease.values\n",
    "X = array[:,0:19].astype(float)\n",
    "Y = array[:,20]\n",
    "validation_size = 0.3\n",
    "seed = 7\n",
    "X_train, X_validation, Y_train, Y_validation = cross_validation.train_test_split(X, Y,test_size=validation_size, random_state=seed)"
   ]
  },
  {
   "cell_type": "markdown",
   "metadata": {},
   "source": [
    "# Evaluate Algorithms\n",
    "I also perform a 15-fold cross-validation and use the accuracy of classification as my performance metric."
   ]
  },
  {
   "cell_type": "code",
   "execution_count": 63,
   "metadata": {
    "collapsed": true
   },
   "outputs": [],
   "source": [
    "# Test options and evaluation metric\n",
    "num_folds = 15\n",
    "num_instances = len(X_train)\n",
    "seed = 7\n",
    "scoring_accuracy = 'accuracy'"
   ]
  },
  {
   "cell_type": "code",
   "execution_count": 64,
   "metadata": {
    "collapsed": true
   },
   "outputs": [],
   "source": [
    "# Store models\n",
    "models = []\n",
    "models.append(('LR', LogisticRegression()))\n",
    "models.append(('LDA', LinearDiscriminantAnalysis()))\n",
    "models.append(('KNN', KNeighborsClassifier()))\n",
    "models.append(('CART', DecisionTreeClassifier()))\n",
    "models.append(('NB', GaussianNB()))\n",
    "models.append(('SVM', SVC()))"
   ]
  },
  {
   "cell_type": "code",
   "execution_count": 65,
   "metadata": {},
   "outputs": [
    {
     "name": "stdout",
     "output_type": "stream",
     "text": [
      "LR: 0.847009 (0.095536)\n",
      "LDA: 0.831197 (0.101481)\n",
      "KNN: 0.697863 (0.102774)\n",
      "CART: 0.745726 (0.124094)"
     ]
    },
    {
     "name": "stderr",
     "output_type": "stream",
     "text": [
      "C:\\Users\\aznch\\Anaconda3\\lib\\site-packages\\sklearn\\discriminant_analysis.py:388: UserWarning: Variables are collinear.\n",
      "  warnings.warn(\"Variables are collinear.\")\n",
      "C:\\Users\\aznch\\Anaconda3\\lib\\site-packages\\sklearn\\discriminant_analysis.py:388: UserWarning: Variables are collinear.\n",
      "  warnings.warn(\"Variables are collinear.\")\n",
      "C:\\Users\\aznch\\Anaconda3\\lib\\site-packages\\sklearn\\discriminant_analysis.py:388: UserWarning: Variables are collinear.\n",
      "  warnings.warn(\"Variables are collinear.\")\n",
      "C:\\Users\\aznch\\Anaconda3\\lib\\site-packages\\sklearn\\discriminant_analysis.py:388: UserWarning: Variables are collinear.\n",
      "  warnings.warn(\"Variables are collinear.\")\n",
      "C:\\Users\\aznch\\Anaconda3\\lib\\site-packages\\sklearn\\discriminant_analysis.py:388: UserWarning: Variables are collinear.\n",
      "  warnings.warn(\"Variables are collinear.\")\n",
      "C:\\Users\\aznch\\Anaconda3\\lib\\site-packages\\sklearn\\discriminant_analysis.py:388: UserWarning: Variables are collinear.\n",
      "  warnings.warn(\"Variables are collinear.\")\n",
      "C:\\Users\\aznch\\Anaconda3\\lib\\site-packages\\sklearn\\discriminant_analysis.py:388: UserWarning: Variables are collinear.\n",
      "  warnings.warn(\"Variables are collinear.\")\n",
      "C:\\Users\\aznch\\Anaconda3\\lib\\site-packages\\sklearn\\discriminant_analysis.py:388: UserWarning: Variables are collinear.\n",
      "  warnings.warn(\"Variables are collinear.\")\n",
      "C:\\Users\\aznch\\Anaconda3\\lib\\site-packages\\sklearn\\discriminant_analysis.py:388: UserWarning: Variables are collinear.\n",
      "  warnings.warn(\"Variables are collinear.\")\n",
      "C:\\Users\\aznch\\Anaconda3\\lib\\site-packages\\sklearn\\discriminant_analysis.py:388: UserWarning: Variables are collinear.\n",
      "  warnings.warn(\"Variables are collinear.\")\n",
      "C:\\Users\\aznch\\Anaconda3\\lib\\site-packages\\sklearn\\discriminant_analysis.py:388: UserWarning: Variables are collinear.\n",
      "  warnings.warn(\"Variables are collinear.\")\n",
      "C:\\Users\\aznch\\Anaconda3\\lib\\site-packages\\sklearn\\discriminant_analysis.py:388: UserWarning: Variables are collinear.\n",
      "  warnings.warn(\"Variables are collinear.\")\n",
      "C:\\Users\\aznch\\Anaconda3\\lib\\site-packages\\sklearn\\discriminant_analysis.py:388: UserWarning: Variables are collinear.\n",
      "  warnings.warn(\"Variables are collinear.\")\n",
      "C:\\Users\\aznch\\Anaconda3\\lib\\site-packages\\sklearn\\discriminant_analysis.py:388: UserWarning: Variables are collinear.\n",
      "  warnings.warn(\"Variables are collinear.\")\n",
      "C:\\Users\\aznch\\Anaconda3\\lib\\site-packages\\sklearn\\discriminant_analysis.py:388: UserWarning: Variables are collinear.\n",
      "  warnings.warn(\"Variables are collinear.\")\n"
     ]
    },
    {
     "name": "stdout",
     "output_type": "stream",
     "text": [
      "\n",
      "NB: 0.800000 (0.092010)\n",
      "SVM: 0.544017 (0.127086)\n"
     ]
    }
   ],
   "source": [
    "# Run LR, LDA, KNN, CART, NB, SVM on data\n",
    "results = []\n",
    "names = []\n",
    "for name, model in models:\n",
    "    kfold = cross_validation.KFold(n = num_instances, n_folds = num_folds, random_state = seed)\n",
    "    cv_results = cross_validation.cross_val_score(model, X_train, Y_train, cv = kfold, scoring = scoring_accuracy)\n",
    "    results.append(cv_results)\n",
    "    names.append(name)\n",
    "    msg = \"%s: %f (%f)\" % (name, cv_results.mean(), cv_results.std())\n",
    "    print(msg)"
   ]
  },
  {
   "cell_type": "markdown",
   "metadata": {},
   "source": [
    "Linear Discriminant Analysis (LDA) gives us a warning that certain predictors are collinear. This makes sense due to our binary encoding of the variables. For example, an increase in scoring a 1 on chest pain implies a decrease on chest pains of 2,3,4 and so it underestimates the effect of scoring a 1 on heart disease."
   ]
  },
  {
   "cell_type": "code",
   "execution_count": 66,
   "metadata": {},
   "outputs": [
    {
     "data": {
      "image/png": "[encoded data removed]",
      "text/plain": [
       "<matplotlib.figure.Figure at 0x16502ac7198>"
      ]
     },
     "metadata": {},
     "output_type": "display_data"
    }
   ],
   "source": [
    "# Compare Algorithms\n",
    "fig = plt.figure()\n",
    "fig.suptitle('Algorithm Comparison')\n",
    "ax = fig.add_subplot(111)\n",
    "plt.boxplot(results)\n",
    "ax.set_xticklabels(names)\n",
    "plt.show()"
   ]
  },
  {
   "cell_type": "markdown",
   "metadata": {},
   "source": [
    "# Standardize data due to distributions\n",
    "Note that variables such as age carry the most weight in the classification process and so I decide to standardize the data points to the standard normal distribution."
   ]
  },
  {
   "cell_type": "code",
   "execution_count": 67,
   "metadata": {},
   "outputs": [
    {
     "name": "stdout",
     "output_type": "stream",
     "text": [
      "ScaledLR: 0.826068 (0.117499)\n",
      "ScaledLDA: 0.831197 (0.101481)\n",
      "ScaledKNN: 0.810684 (0.090560)"
     ]
    },
    {
     "name": "stderr",
     "output_type": "stream",
     "text": [
      "C:\\Users\\aznch\\Anaconda3\\lib\\site-packages\\sklearn\\discriminant_analysis.py:388: UserWarning: Variables are collinear.\n",
      "  warnings.warn(\"Variables are collinear.\")\n",
      "C:\\Users\\aznch\\Anaconda3\\lib\\site-packages\\sklearn\\discriminant_analysis.py:388: UserWarning: Variables are collinear.\n",
      "  warnings.warn(\"Variables are collinear.\")\n",
      "C:\\Users\\aznch\\Anaconda3\\lib\\site-packages\\sklearn\\discriminant_analysis.py:388: UserWarning: Variables are collinear.\n",
      "  warnings.warn(\"Variables are collinear.\")\n",
      "C:\\Users\\aznch\\Anaconda3\\lib\\site-packages\\sklearn\\discriminant_analysis.py:388: UserWarning: Variables are collinear.\n",
      "  warnings.warn(\"Variables are collinear.\")\n",
      "C:\\Users\\aznch\\Anaconda3\\lib\\site-packages\\sklearn\\discriminant_analysis.py:388: UserWarning: Variables are collinear.\n",
      "  warnings.warn(\"Variables are collinear.\")\n",
      "C:\\Users\\aznch\\Anaconda3\\lib\\site-packages\\sklearn\\discriminant_analysis.py:388: UserWarning: Variables are collinear.\n",
      "  warnings.warn(\"Variables are collinear.\")\n",
      "C:\\Users\\aznch\\Anaconda3\\lib\\site-packages\\sklearn\\discriminant_analysis.py:388: UserWarning: Variables are collinear.\n",
      "  warnings.warn(\"Variables are collinear.\")\n",
      "C:\\Users\\aznch\\Anaconda3\\lib\\site-packages\\sklearn\\discriminant_analysis.py:388: UserWarning: Variables are collinear.\n",
      "  warnings.warn(\"Variables are collinear.\")\n",
      "C:\\Users\\aznch\\Anaconda3\\lib\\site-packages\\sklearn\\discriminant_analysis.py:388: UserWarning: Variables are collinear.\n",
      "  warnings.warn(\"Variables are collinear.\")\n",
      "C:\\Users\\aznch\\Anaconda3\\lib\\site-packages\\sklearn\\discriminant_analysis.py:388: UserWarning: Variables are collinear.\n",
      "  warnings.warn(\"Variables are collinear.\")\n",
      "C:\\Users\\aznch\\Anaconda3\\lib\\site-packages\\sklearn\\discriminant_analysis.py:388: UserWarning: Variables are collinear.\n",
      "  warnings.warn(\"Variables are collinear.\")\n",
      "C:\\Users\\aznch\\Anaconda3\\lib\\site-packages\\sklearn\\discriminant_analysis.py:388: UserWarning: Variables are collinear.\n",
      "  warnings.warn(\"Variables are collinear.\")\n",
      "C:\\Users\\aznch\\Anaconda3\\lib\\site-packages\\sklearn\\discriminant_analysis.py:388: UserWarning: Variables are collinear.\n",
      "  warnings.warn(\"Variables are collinear.\")\n",
      "C:\\Users\\aznch\\Anaconda3\\lib\\site-packages\\sklearn\\discriminant_analysis.py:388: UserWarning: Variables are collinear.\n",
      "  warnings.warn(\"Variables are collinear.\")\n",
      "C:\\Users\\aznch\\Anaconda3\\lib\\site-packages\\sklearn\\discriminant_analysis.py:388: UserWarning: Variables are collinear.\n",
      "  warnings.warn(\"Variables are collinear.\")\n"
     ]
    },
    {
     "name": "stdout",
     "output_type": "stream",
     "text": [
      "\n",
      "ScaledCART: 0.757692 (0.126055)\n",
      "ScaledNB: 0.779487 (0.128094)\n",
      "ScaledSVM: 0.852564 (0.067353)\n"
     ]
    }
   ],
   "source": [
    "# Standardize the heart_disease\n",
    "pipelines = []\n",
    "pipelines.append(('ScaledLR', Pipeline([('Scaler', StandardScaler()),('LR', LogisticRegression())])))\n",
    "pipelines.append(('ScaledLDA', Pipeline([('Scaler', StandardScaler()),('LDA', LinearDiscriminantAnalysis())])))\n",
    "pipelines.append(('ScaledKNN', Pipeline([('Scaler', StandardScaler()),('KNN', KNeighborsClassifier())])))\n",
    "pipelines.append(('ScaledCART', Pipeline([('Scaler', StandardScaler()),('CART', DecisionTreeClassifier())])))\n",
    "pipelines.append(('ScaledNB', Pipeline([('Scaler', StandardScaler()),('NB', GaussianNB())])))\n",
    "pipelines.append(('ScaledSVM', Pipeline([('Scaler', StandardScaler()),('SVM', SVC())])))\n",
    "results = []\n",
    "names = []\n",
    "for name, model in pipelines:\n",
    "    kfold = cross_validation.KFold(n=num_instances, n_folds=num_folds, random_state=seed)\n",
    "    cv_results = cross_validation.cross_val_score(model, X_train, Y_train, cv=kfold, scoring=scoring_accuracy)\n",
    "    results.append(cv_results)\n",
    "    names.append(name)\n",
    "    msg = \"%s: %f (%f)\" % (name, cv_results.mean(), cv_results.std())\n",
    "    print(msg)"
   ]
  },
  {
   "cell_type": "code",
   "execution_count": 68,
   "metadata": {},
   "outputs": [
    {
     "data": {
      "image/png": "[encoded data removed]",
      "text/plain": [
       "<matplotlib.figure.Figure at 0x165029a2b70>"
      ]
     },
     "metadata": {},
     "output_type": "display_data"
    }
   ],
   "source": [
    "# Compare Algorithms\n",
    "fig = plt.figure()\n",
    "fig.suptitle('Scaled Algorithm Comparison')\n",
    "ax = fig.add_subplot(111)\n",
    "plt.boxplot(results)\n",
    "ax.set_xticklabels(names)\n",
    "plt.show()"
   ]
  },
  {
   "cell_type": "markdown",
   "metadata": {},
   "source": [
    "# Fine tune k Nearest neighbors\n",
    "By default, k-Nearest Neighbors runs 5 neighbors so I'd like to tune the parameter to see if we can achieve better accuracy. "
   ]
  },
  {
   "cell_type": "code",
   "execution_count": 549,
   "metadata": {},
   "outputs": [
    {
     "name": "stdout",
     "output_type": "stream",
     "text": [
      "Best: 0.835979 using {'n_neighbors': 17}\n",
      "0.745906 (0.084507) with: {'n_neighbors': 1}\n",
      "0.782749 (0.101879) with: {'n_neighbors': 3}\n",
      "0.820468 (0.105395) with: {'n_neighbors': 5}\n",
      "0.788889 (0.104691) with: {'n_neighbors': 7}\n",
      "0.804971 (0.093860) with: {'n_neighbors': 9}\n",
      "0.815497 (0.105559) with: {'n_neighbors': 11}\n",
      "0.815497 (0.105559) with: {'n_neighbors': 13}\n",
      "0.826023 (0.112695) with: {'n_neighbors': 15}\n",
      "0.836257 (0.097995) with: {'n_neighbors': 17}\n",
      "0.820760 (0.113049) with: {'n_neighbors': 19}\n",
      "0.825731 (0.112664) with: {'n_neighbors': 21}\n"
     ]
    }
   ],
   "source": [
    "scaler = StandardScaler().fit(X_train)\n",
    "rescaledX = scaler.transform(X_train)\n",
    "neighbors = [1,3,5,7,9,11,13,15,17,19,21]\n",
    "\n",
    "param_grid = dict(n_neighbors=neighbors)\n",
    "model = KNeighborsClassifier()\n",
    "kfold = cross_validation.KFold(n=num_instances, n_folds=num_folds, random_state=seed)\n",
    "grid = GridSearchCV(estimator=model, param_grid=param_grid, scoring=scoring_accuracy, cv=kfold)\n",
    "grid_result = grid.fit(rescaledX, Y_train)\n",
    "print(\"Best: %f using %s\" % (grid_result.best_score_, grid_result.best_params_))\n",
    "for params, mean_score, scores in grid_result.grid_scores_:\n",
    "    print(\"%f (%f) with: %r\" % (scores.mean(), scores.std(), params))\n",
    "    "
   ]
  },
  {
   "cell_type": "markdown",
   "metadata": {},
   "source": [
    "# Fine tuning Logistic Regression\n",
    "Logistic Regression showed us the best promise and so by changing the hyperparameter, C, I hope to achieve better accuracy as we cross-validate."
   ]
  },
  {
   "cell_type": "code",
   "execution_count": 558,
   "metadata": {},
   "outputs": [
    {
     "name": "stdout",
     "output_type": "stream",
     "text": [
      "Best: 0.846561 using {'C': 0.01}\n",
      "0.815205 (0.102838) with: {'C': 0.0001}\n",
      "0.815205 (0.102838) with: {'C': 0.001}\n",
      "0.847076 (0.113728) with: {'C': 0.01}\n",
      "0.841813 (0.112613) with: {'C': 0.1}\n",
      "0.847076 (0.103527) with: {'C': 1}\n",
      "0.841813 (0.110125) with: {'C': 10}\n",
      "0.825731 (0.107634) with: {'C': 100}\n",
      "0.825731 (0.107634) with: {'C': 1000}\n"
     ]
    }
   ],
   "source": [
    "# Fine tune Logistic Regression\n",
    "scaler = StandardScaler().fit(X_train)\n",
    "rescaledX = scaler.transform(X_train)\n",
    "param_grid = {'C': [.0001, 0.001, 0.01, 0.1, 1, 10, 100, 1000] }\n",
    "kfold = cross_validation.KFold(n=num_instances, n_folds=num_folds, random_state=seed)\n",
    "grid = GridSearchCV(estimator=LogisticRegression(), param_grid=param_grid, scoring=scoring_accuracy, cv=kfold)\n",
    "grid_result = grid.fit(rescaledX, Y_train)\n",
    "print(\"Best: %f using %s\" % (grid_result.best_score_, grid_result.best_params_))\n",
    "for params, mean_score, scores in grid_result.grid_scores_:\n",
    "    print(\"%f (%f) with: %r\" % (scores.mean(), scores.std(), params))\n",
    "    "
   ]
  },
  {
   "cell_type": "markdown",
   "metadata": {},
   "source": [
    "# Fine tuning Support Vector Machine\n",
    "SVM is one of those algorithms that can perform well if the kernel and hyperparameter, C, is tuned. Therefore, we perform a grid search to try various combinations."
   ]
  },
  {
   "cell_type": "code",
   "execution_count": 545,
   "metadata": {},
   "outputs": [
    {
     "name": "stdout",
     "output_type": "stream",
     "text": [
      "Best: 0.851852 using {'C': 0.5, 'kernel': 'rbf'}\n",
      "0.836257 (0.100782) with: {'C': 0.1, 'kernel': 'linear'}\n",
      "0.619883 (0.122556) with: {'C': 0.1, 'kernel': 'poly'}\n",
      "0.804386 (0.105121) with: {'C': 0.1, 'kernel': 'rbf'}\n",
      "0.831287 (0.107036) with: {'C': 0.1, 'kernel': 'sigmoid'}\n",
      "0.830994 (0.101709) with: {'C': 0.3, 'kernel': 'linear'}\n",
      "0.799708 (0.121500) with: {'C': 0.3, 'kernel': 'poly'}\n",
      "0.836257 (0.100782) with: {'C': 0.3, 'kernel': 'rbf'}\n",
      "0.841813 (0.102301) with: {'C': 0.3, 'kernel': 'sigmoid'}\n",
      "0.836257 (0.092168) with: {'C': 0.5, 'kernel': 'linear'}\n",
      "0.820760 (0.120175) with: {'C': 0.5, 'kernel': 'poly'}\n",
      "0.852047 (0.096236) with: {'C': 0.5, 'kernel': 'rbf'}\n",
      "0.841813 (0.102301) with: {'C': 0.5, 'kernel': 'sigmoid'}\n",
      "0.836257 (0.092168) with: {'C': 0.7, 'kernel': 'linear'}\n",
      "0.841813 (0.099557) with: {'C': 0.7, 'kernel': 'poly'}\n",
      "0.846784 (0.098057) with: {'C': 0.7, 'kernel': 'rbf'}\n",
      "0.847076 (0.106169) with: {'C': 0.7, 'kernel': 'sigmoid'}\n",
      "0.836257 (0.092168) with: {'C': 0.9, 'kernel': 'linear'}\n",
      "0.836550 (0.103498) with: {'C': 0.9, 'kernel': 'poly'}\n",
      "0.852047 (0.099072) with: {'C': 0.9, 'kernel': 'rbf'}\n",
      "0.830994 (0.096108) with: {'C': 0.9, 'kernel': 'sigmoid'}\n",
      "0.836257 (0.092168) with: {'C': 1.0, 'kernel': 'linear'}\n",
      "0.841520 (0.087737) with: {'C': 1.0, 'kernel': 'poly'}\n",
      "0.846784 (0.095191) with: {'C': 1.0, 'kernel': 'rbf'}\n",
      "0.830994 (0.096108) with: {'C': 1.0, 'kernel': 'sigmoid'}\n",
      "0.841520 (0.087737) with: {'C': 1.3, 'kernel': 'linear'}\n",
      "0.836257 (0.085947) with: {'C': 1.3, 'kernel': 'poly'}\n",
      "0.852047 (0.093313) with: {'C': 1.3, 'kernel': 'rbf'}\n",
      "0.852047 (0.087174) with: {'C': 1.3, 'kernel': 'sigmoid'}\n",
      "0.835965 (0.086309) with: {'C': 1.5, 'kernel': 'linear'}\n",
      "0.836257 (0.085947) with: {'C': 1.5, 'kernel': 'poly'}\n",
      "0.846784 (0.095191) with: {'C': 1.5, 'kernel': 'rbf'}\n",
      "0.841520 (0.087737) with: {'C': 1.5, 'kernel': 'sigmoid'}\n",
      "0.835965 (0.086309) with: {'C': 1.7, 'kernel': 'linear'}\n",
      "0.836257 (0.085947) with: {'C': 1.7, 'kernel': 'poly'}\n",
      "0.841520 (0.096746) with: {'C': 1.7, 'kernel': 'rbf'}\n",
      "0.836257 (0.092168) with: {'C': 1.7, 'kernel': 'sigmoid'}\n",
      "0.835965 (0.086309) with: {'C': 2.0, 'kernel': 'linear'}\n",
      "0.836257 (0.085947) with: {'C': 2.0, 'kernel': 'poly'}\n",
      "0.841520 (0.087737) with: {'C': 2.0, 'kernel': 'rbf'}\n",
      "0.809942 (0.084956) with: {'C': 2.0, 'kernel': 'sigmoid'}\n"
     ]
    }
   ],
   "source": [
    "# Fine tune SVM parameter c as well as kernels\n",
    "scaler = StandardScaler().fit(X_train)\n",
    "rescaledX = scaler.transform(X_train)\n",
    "c_values = [0.1, 0.3, 0.5, 0.7, 0.9, 1.0, 1.3, 1.5, 1.7, 2.0]\n",
    "kernel_values = ['linear', 'poly', 'rbf', 'sigmoid']\n",
    "param_grid = dict(C=c_values, kernel=kernel_values)\n",
    "\n",
    "kfold = cross_validation.KFold(n=num_instances, n_folds=num_folds, random_state=seed)\n",
    "grid = GridSearchCV(estimator=SVC(), param_grid=param_grid, scoring=scoring_accuracy, cv=kfold)\n",
    "grid_result = grid.fit(rescaledX, Y_train)\n",
    "print(\"Best: %f using %s\" % (grid_result.best_score_, grid_result.best_params_))\n",
    "for params, mean_score, scores in grid_result.grid_scores_:\n",
    "    print(\"%f (%f) with: %r\" % (scores.mean(), scores.std(), params))"
   ]
  },
  {
   "cell_type": "markdown",
   "metadata": {},
   "source": [
    "# Ensemble Methods"
   ]
  },
  {
   "cell_type": "code",
   "execution_count": 487,
   "metadata": {},
   "outputs": [
    {
     "name": "stdout",
     "output_type": "stream",
     "text": [
      "AB: 0.819264 (0.067595)\n",
      "GBM: 0.838745 (0.078820)\n",
      "RF: 0.824459 (0.072499)\n",
      "ET: 0.833766 (0.049706)\n"
     ]
    }
   ],
   "source": [
    "# Run emsemble methods\n",
    "ensembles = []\n",
    "ensembles.append(('AB', AdaBoostClassifier()))\n",
    "ensembles.append(('GBM', GradientBoostingClassifier()))\n",
    "ensembles.append(('RF', RandomForestClassifier()))\n",
    "ensembles.append(('ET', ExtraTreesClassifier()))\n",
    "results = []\n",
    "names = []\n",
    "for name, model in ensembles:\n",
    "    kfold = cross_validation.KFold(n=num_instances, n_folds=num_folds, random_state=seed)\n",
    "    cv_results = cross_validation.cross_val_score(model, X_train, Y_train, cv=kfold, scoring=scoring_accuracy)\n",
    "    results.append(cv_results)\n",
    "    names.append(name)\n",
    "    msg = \"%s: %f (%f)\" % (name, cv_results.mean(), cv_results.std())\n",
    "    print(msg)"
   ]
  },
  {
   "cell_type": "markdown",
   "metadata": {},
   "source": [
    "# Compare Algorithms "
   ]
  },
  {
   "cell_type": "code",
   "execution_count": 542,
   "metadata": {},
   "outputs": [
    {
     "data": {
      "image/png": "[encoded data removed]",
      "text/plain": [
       "<matplotlib.figure.Figure at 0x2087dcdcbe0>"
      ]
     },
     "metadata": {},
     "output_type": "display_data"
    }
   ],
   "source": [
    "fig = plt.figure()\n",
    "fig.suptitle('Ensemble Algorithm Comparison')\n",
    "ax = fig.add_subplot(111)\n",
    "plt.boxplot(results)\n",
    "ax.set_xticklabels(names)\n",
    "plt.show()"
   ]
  },
  {
   "cell_type": "markdown",
   "metadata": {},
   "source": [
    "# Performance on the Validation Set"
   ]
  },
  {
   "cell_type": "code",
   "execution_count": 72,
   "metadata": {},
   "outputs": [
    {
     "name": "stdout",
     "output_type": "stream",
     "text": [
      "Logistic Regression\n",
      "0.83950617284\n",
      "[[40  7]\n",
      " [ 6 28]]\n",
      "             precision    recall  f1-score   support\n",
      "\n",
      "          1       0.87      0.85      0.86        47\n",
      "          2       0.80      0.82      0.81        34\n",
      "\n",
      "avg / total       0.84      0.84      0.84        81\n",
      "\n"
     ]
    }
   ],
   "source": [
    "# Test LR model with C = .01\n",
    "scaler = StandardScaler().fit(X_train)\n",
    "rescaledX = scaler.transform(X_train)\n",
    "model = LogisticRegression(C=.01)\n",
    "model.fit(rescaledX, Y_train)\n",
    "\n",
    "# Test on cross validation set\n",
    "rescaledValidationX = scaler.transform(X_validation)\n",
    "predictions = model.predict(rescaledValidationX)\n",
    "print(\"Logistic Regression\")\n",
    "print(accuracy_score(Y_validation, predictions))\n",
    "print(confusion_matrix(Y_validation, predictions))\n",
    "print(classification_report(Y_validation, predictions))\n"
   ]
  },
  {
   "cell_type": "code",
   "execution_count": 71,
   "metadata": {},
   "outputs": [
    {
     "name": "stdout",
     "output_type": "stream",
     "text": [
      "Support Vector Machine\n",
      "0.827160493827\n",
      "[[40  7]\n",
      " [ 7 27]]\n",
      "             precision    recall  f1-score   support\n",
      "\n",
      "          1       0.85      0.85      0.85        47\n",
      "          2       0.79      0.79      0.79        34\n",
      "\n",
      "avg / total       0.83      0.83      0.83        81\n",
      "\n",
      "['1' '1' '1' '1' '2' '1' '2' '1' '1' '1' '1' '2' '1' '1' '1' '2' '1' '1'\n",
      " '1' '1' '1' '1' '2' '2' '2' '1' '2' '2' '1' '2' '2' '2' '1' '2' '1' '1'\n",
      " '2' '2' '2' '1' '1' '1' '2' '1' '1' '1' '2' '2' '1' '2' '2' '2' '1' '2'\n",
      " '1' '2' '1' '1' '2' '1' '1' '1' '2' '2' '1' '1' '1' '2' '1' '1' '2' '1'\n",
      " '2' '2' '1' '1' '1' '2' '1' '2' '2']\n"
     ]
    }
   ],
   "source": [
    "# Test SVC with hyperparameter C= .03 and rbf \n",
    "scaler = StandardScaler().fit(X_train)\n",
    "rescaledX = scaler.transform(X_train)\n",
    "model2 = SVC(C=.5, kernel = \"rbf\")\n",
    "model2.fit(rescaledX, Y_train)\n",
    "predictions2 = model2.predict(rescaledValidationX)\n",
    "\n",
    "print(\"Support Vector Machine\")\n",
    "print(accuracy_score(Y_validation, predictions2))\n",
    "print(confusion_matrix(Y_validation, predictions2))\n",
    "print(classification_report(Y_validation, predictions2))"
   ]
  },
  {
   "cell_type": "code",
   "execution_count": 458,
   "metadata": {},
   "outputs": [
    {
     "data": {
      "text/plain": [
       "KNeighborsClassifier(algorithm='auto', leaf_size=30, metric='minkowski',\n",
       "           metric_params=None, n_jobs=1, n_neighbors=17, p=2,\n",
       "           weights='uniform')"
      ]
     },
     "execution_count": 458,
     "metadata": {},
     "output_type": "execute_result"
    }
   ],
   "source": [
    "model3"
   ]
  },
  {
   "cell_type": "code",
   "execution_count": 73,
   "metadata": {},
   "outputs": [
    {
     "name": "stdout",
     "output_type": "stream",
     "text": [
      "k-Nearest Neighbors\n",
      "0.827160493827\n",
      "[[40  7]\n",
      " [ 7 27]]\n"
     ]
    },
    {
     "data": {
      "text/plain": [
       "'             precision    recall  f1-score   support\\n\\n          1       0.85      0.85      0.85        47\\n          2       0.79      0.79      0.79        34\\n\\navg / total       0.83      0.83      0.83        81\\n'"
      ]
     },
     "execution_count": 73,
     "metadata": {},
     "output_type": "execute_result"
    }
   ],
   "source": [
    "# Test kNN with 17 neighbors\n",
    "model3 =  KNeighborsClassifier(n_neighbors = 17)\n",
    "model3.fit(rescaledX, Y_train)\n",
    "predictions3 = model3.predict(rescaledValidationX)\n",
    "\n",
    "print( \"k-Nearest Neighbors\")\n",
    "print(accuracy_score(Y_validation, predictions3))\n",
    "print(confusion_matrix(Y_validation, predictions3))\n",
    "print(classification_report(Y_validation, predictions3))\n"
   ]
  },
  {
   "cell_type": "markdown",
   "metadata": {},
   "source": [
    "We conclude that by using logistic regression, we can achieve 84% accuracy in our model after fine tuning. "
   ]
  }
 ],
 "metadata": {
  "kernelspec": {
   "display_name": "Python 3",
   "language": "python",
   "name": "python3"
  },
  "language_info": {
   "codemirror_mode": {
    "name": "ipython",
    "version": 3
   },
   "file_extension": ".py",
   "mimetype": "text/x-python",
   "name": "python",
   "nbconvert_exporter": "python",
   "pygments_lexer": "ipython3",
   "version": "3.6.1"
  }
 },
 "nbformat": 4,
 "nbformat_minor": 2
}
